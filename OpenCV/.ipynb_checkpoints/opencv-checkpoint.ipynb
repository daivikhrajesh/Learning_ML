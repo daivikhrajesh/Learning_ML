{
 "cells": [
  {
   "cell_type": "code",
   "execution_count": 1,
   "id": "2f99058e-fe1c-4039-b85a-6da496354439",
   "metadata": {},
   "outputs": [],
   "source": [
    "import cv2"
   ]
  },
  {
   "cell_type": "code",
   "execution_count": 4,
   "id": "ffca9c0a-9373-48cb-9e69-20d5bf83b306",
   "metadata": {},
   "outputs": [],
   "source": [
    "image = cv2.imread('goku.jpg')"
   ]
  },
  {
   "cell_type": "code",
   "execution_count": 5,
   "id": "65435fc9-8604-4fd4-bfc3-7efad8baa4a2",
   "metadata": {},
   "outputs": [],
   "source": [
    "h, w = image.shape[:2]"
   ]
  },
  {
   "cell_type": "code",
   "execution_count": 6,
   "id": "49e67981",
   "metadata": {},
   "outputs": [
    {
     "name": "stdout",
     "output_type": "stream",
     "text": [
      "Height = 1080, Width = 1920\n"
     ]
    }
   ],
   "source": [
    "print(\"Height = {}, Width = {}\".format(h, w))"
   ]
  },
  {
   "cell_type": "code",
   "execution_count": 11,
   "id": "208a36a2",
   "metadata": {},
   "outputs": [
    {
     "name": "stdout",
     "output_type": "stream",
     "text": [
      "R = 202, G = 150, B = 100\n",
      "B = 96\n"
     ]
    }
   ],
   "source": [
    "# Extracting RGB values.Here we have randomly chosen a pixel by passing in 100, 100 for height and width.\n",
    "\n",
    "(B, G, R) = image[150, 100]\n",
    "\n",
    "# Displaying the pixel values\n",
    "print(\"R = {}, G = {}, B = {}\".format(R, G, B))\n",
    "\n",
    "# We can also pass the channel to extract the value for a specific channel\n",
    "B = image[100, 100, 0]\n",
    "print(\"B = {}\".format(B))\n"
   ]
  },
  {
   "cell_type": "code",
   "execution_count": 12,
   "id": "d6ae31ab",
   "metadata": {},
   "outputs": [],
   "source": [
    "roi = image[100 : 500, 200 : 700]\n",
    "cv2.imshow(\"ROI\", roi)\n",
    "cv2.waitKey(0)"
   ]
  },
  {
   "cell_type": "code",
   "execution_count": null,
   "id": "7d4a77dd",
   "metadata": {},
   "outputs": [],
   "source": []
  }
 ],
 "metadata": {
  "kernelspec": {
   "display_name": "Python 3 (ipykernel)",
   "language": "python",
   "name": "python3"
  },
  "language_info": {
   "codemirror_mode": {
    "name": "ipython",
    "version": 3
   },
   "file_extension": ".py",
   "mimetype": "text/x-python",
   "name": "python",
   "nbconvert_exporter": "python",
   "pygments_lexer": "ipython3",
   "version": "3.12.2"
  }
 },
 "nbformat": 4,
 "nbformat_minor": 5
}
